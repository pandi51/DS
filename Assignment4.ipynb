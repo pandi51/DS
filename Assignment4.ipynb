{
 "cells": [
  {
   "cell_type": "markdown",
   "metadata": {},
   "source": [
    "# Python Assignment 4"
   ]
  },
  {
   "cell_type": "raw",
   "metadata": {},
   "source": [
    "1.1 Write a Python Program(with class concepts) to find the area of the triangle using the below\n",
    "formula.\n",
    "area = (s*(s-a)*(s-b)*(s-c)) ** 0.5\n",
    "Function to take the length of the sides of triangle from user should be defined in the parent\n",
    "class and function to calculate the area should be defined in subclass."
   ]
  },
  {
   "cell_type": "code",
   "execution_count": 18,
   "metadata": {},
   "outputs": [
    {
     "name": "stdin",
     "output_type": "stream",
     "text": [
      "Enter the triangle side a: 10\n",
      "Enter the triangle side b: 10\n",
      "Enter the triangle side c: 10\n"
     ]
    },
    {
     "name": "stdout",
     "output_type": "stream",
     "text": [
      "Area of the triangle is: 43.30127018922193\n"
     ]
    }
   ],
   "source": [
    "class Triangle:\n",
    "    def __init__(self):\n",
    "        self.getlength()\n",
    "\n",
    "    def getlength(self):\n",
    "        self.a= float(input(\"Enter the triangle side a:\"))\n",
    "        self.b= float(input(\"Enter the triangle side b:\"))\n",
    "        self.c= float(input(\"Enter the triangle side c:\"))\n",
    "        \n",
    "        \n",
    "class Area(Triangle):\n",
    "    def __init__(self):\n",
    "        super(Area, self).__init__()\n",
    "    \n",
    "    def areaCalc(self):\n",
    "        s = (self.a +self.b+self.c)/2\n",
    "        area = (s*(s-self.a)*(s-self.b)*(s-self.c))**0.5\n",
    "        print(\"Area of the triangle is:\", area)\n",
    "    \n",
    "ar = Area();\n",
    "ar.areaCalc();"
   ]
  },
  {
   "cell_type": "raw",
   "metadata": {},
   "source": [
    "#1.2\n",
    "Write a function filter_long_words() that takes a list of words and an integer n and returns\n",
    "the list of words that are longer than n."
   ]
  },
  {
   "cell_type": "code",
   "execution_count": 32,
   "metadata": {},
   "outputs": [
    {
     "data": {
      "text/plain": [
       "['abcd', 'bcds', 'abc', 'abcdef']"
      ]
     },
     "execution_count": 32,
     "metadata": {},
     "output_type": "execute_result"
    }
   ],
   "source": [
    "def filter_long_words(words, n):\n",
    "    return list(filter(lambda x:len(x)>n,words))\n",
    "\n",
    "words = [\"abcd\", \"bcds\", \"aa\", \"abc\", \"abcdef\"]\n",
    "wCount = 2\n",
    "\n",
    "filter_long_words(words, wCount)\n"
   ]
  },
  {
   "cell_type": "raw",
   "metadata": {},
   "source": [
    "# 2.1 \n",
    "Write a Python program using function concept that maps list of words into a list of integers\n",
    "representing the lengths of the corresponding words .\n",
    "Hint: If a list [ ab,cde,erty] is passed on to the python function output should come as [2,3,4]\n",
    "Here 2,3 and 4 are the lengths of the words in the list."
   ]
  },
  {
   "cell_type": "code",
   "execution_count": 38,
   "metadata": {},
   "outputs": [
    {
     "data": {
      "text/plain": [
       "[4, 4, 2, 3, 6]"
      ]
     },
     "execution_count": 38,
     "metadata": {},
     "output_type": "execute_result"
    }
   ],
   "source": [
    "def convert_to_int_list(words):\n",
    "    return list(map(lambda x:len(x), words))\n",
    "\n",
    "words = [\"abcd\", \"bcds\", \"aa\", \"abc\", \"abcdef\"]\n",
    "\n",
    "convert_to_int_list(words)\n"
   ]
  },
  {
   "cell_type": "raw",
   "metadata": {},
   "source": [
    "# 2.2\n",
    "Write a Python function which takes a character (i.e. a string of length 1) and returns True if\n",
    "it is a vowel, False otherwise."
   ]
  },
  {
   "cell_type": "code",
   "execution_count": 45,
   "metadata": {},
   "outputs": [
    {
     "name": "stdout",
     "output_type": "stream",
     "text": [
      "True\n",
      "True\n",
      "False\n"
     ]
    }
   ],
   "source": [
    "def vowel_check(ch):\n",
    "    return ch in \"AEIOUaeiou\"\n",
    "\n",
    "print(vowel_check('A'))\n",
    "print(vowel_check('o'))\n",
    "print(vowel_check('b'))"
   ]
  }
 ],
 "metadata": {
  "kernelspec": {
   "display_name": "Python 3",
   "language": "python",
   "name": "python3"
  },
  "language_info": {
   "codemirror_mode": {
    "name": "ipython",
    "version": 3
   },
   "file_extension": ".py",
   "mimetype": "text/x-python",
   "name": "python",
   "nbconvert_exporter": "python",
   "pygments_lexer": "ipython3",
   "version": "3.7.6"
  }
 },
 "nbformat": 4,
 "nbformat_minor": 4
}
